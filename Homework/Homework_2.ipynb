{
 "cells": [
  {
   "cell_type": "markdown",
   "metadata": {},
   "source": [
    "\n",
    "Old McDonald is dyslexic OIEIE...\n",
    "Please help on his farm, please...\n",
    "\n",
    "Your goal is to categorize all of his animals into groups.\n",
    "example:\n",
    "- pigs are useful for there meat, skin and help improve the soil and biodiversity\n",
    "\n",
    "Create classes for all of his different types of animals\n",
    "You should have at least 5 animals on the farm ie. cows, pigs, dogs, goats\n"
   ]
  },
  {
   "cell_type": "code",
   "execution_count": 1,
   "metadata": {},
   "outputs": [
    {
     "name": "stdout",
     "output_type": "stream",
     "text": [
      "John\n",
      "36\n"
     ]
    }
   ],
   "source": [
    "class Person:\n",
    "  def __init__(self, name, age):\n",
    "    self.name = name\n",
    "    self.age = age\n",
    "\n",
    "p1 = Person(\"John\", 36)\n",
    "\n",
    "print(p1.name)\n",
    "print(p1.age) "
   ]
  },
  {
   "cell_type": "code",
   "execution_count": 3,
   "metadata": {},
   "outputs": [
    {
     "name": "stdout",
     "output_type": "stream",
     "text": [
      "John(36)\n"
     ]
    }
   ],
   "source": [
    "class Person:\n",
    "  def __init__(self, name, age):\n",
    "    self.name = name\n",
    "    self.age = age\n",
    "\n",
    "  def __str__(self):\n",
    "    return f\"{self.name}({self.age})\"\n",
    "\n",
    "p1 = Person(\"John\", 36)\n",
    "\n",
    "print(p1) "
   ]
  },
  {
   "cell_type": "code",
   "execution_count": 4,
   "metadata": {},
   "outputs": [
    {
     "name": "stdout",
     "output_type": "stream",
     "text": [
      "Hello my name is John\n"
     ]
    }
   ],
   "source": [
    "class Person:\n",
    "  def __init__(self, name, age):\n",
    "    self.name = name\n",
    "    self.age = age\n",
    "\n",
    "  def myfunc(self):\n",
    "    print(\"Hello my name is \" + self.name)\n",
    "\n",
    "p1 = Person(\"John\", 36)\n",
    "p1.myfunc() "
   ]
  },
  {
   "cell_type": "code",
   "execution_count": 5,
   "metadata": {},
   "outputs": [
    {
     "name": "stdout",
     "output_type": "stream",
     "text": [
      "Hello my name is John\n"
     ]
    }
   ],
   "source": [
    "class Person:\n",
    "  def __init__(mysillyobject, name, age):\n",
    "    mysillyobject.name = name\n",
    "    mysillyobject.age = age\n",
    "\n",
    "  def myfunc(abc):\n",
    "    print(\"Hello my name is \" + abc.name)\n",
    "\n",
    "p1 = Person(\"John\", 36)\n",
    "p1.myfunc() "
   ]
  },
  {
   "cell_type": "code",
   "execution_count": 12,
   "metadata": {},
   "outputs": [],
   "source": [
    "class FarmAnimal:\n",
    "    def __init__(self, species, breed, age, gender, use, diet, weight, habitat):\n",
    "        self.species = species\n",
    "        self.breed = breed\n",
    "        self.age = age\n",
    "        self.gender = gender\n",
    "        self.use = use\n",
    "        self.diet = diet\n",
    "        self.weight = weight\n",
    "        self.habitat = habitat\n",
    "\n",
    "    def display_info(self):\n",
    "        print(f\"{self.species} ({self.breed}) - {self.age} years old, {self.gender}\")\n",
    "        print(f\"Use: {self.use} | Diet: {self.diet} | Weight: {self.weight} kg\")\n",
    "        print(f\"Habitat: {self.habitat}\")\n",
    "\n",
    "class Cow(FarmAnimal):\n",
    "    def __init__(self, breed, age, gender, use, diet, weight, milk_output):\n",
    "        # Call the parent constructor using super()\n",
    "        super().__init__(\"Cow\", breed, age, gender, use, diet, weight, \"Pasture\")\n",
    "        self.milk_output = milk_output  # Specific to Cow\n",
    "\n",
    "    # Add cow behavior\n",
    "    def produce_milk(self):\n",
    "        print(f\"This cow produces {self.milk_output} liters of milk per day.\")\n",
    "\n",
    "    # Override parent method to add info\n",
    "    def display_info(self):\n",
    "        super().display_info()  # Call parent method\n",
    "        print(f\"Milk Output: {self.milk_output} liters/day\")\n",
    "\n",
    "class Chicken(FarmAnimal):\n",
    "    def __init__(self, breed, age, gender, egg_output):\n",
    "        super().__init__(\"Chicken\", breed, age, gender, \"Eggs\", \"Grains\", 2, \"Coop\")\n",
    "        self.egg_output = egg_output\n",
    "\n",
    "    def lay_eggs(self):\n",
    "        print(f\"This chicken lays {self.egg_output} eggs per week.\")\n",
    "\n",
    "class Pig(FarmAnimal):\n",
    "    def __init__(self, breed, age, gender, weight, use, meat_quality):\n",
    "        super().__init__(\"Pig\", breed, age, gender, use, \"Omnivore\", weight, \"Pen\")\n",
    "        self.meat_quality = meat_quality  # e.g., \"High\", \"Average\"\n",
    "\n",
    "    def roll_in_mud(self):\n",
    "        print(f\"{self.breed} pig is rolling in the mud to stay cool.\")\n",
    "\n",
    "    def display_info(self):\n",
    "        super().display_info()\n",
    "        print(f\"Meat Quality: {self.meat_quality}\")\n",
    "\n",
    "class Sheep(FarmAnimal):\n",
    "    def __init__(self, breed, age, gender, weight, wool_yield):\n",
    "        super().__init__(\"Sheep\", breed, age, gender, \"Wool\", \"Grass\", weight, \"Pasture\")\n",
    "        self.wool_yield = wool_yield  # Wool production in kg/year\n",
    "\n",
    "    def shear_wool(self):\n",
    "        print(f\"This sheep yields {self.wool_yield} kg of wool per year.\")\n",
    "\n",
    "    def display_info(self):\n",
    "        super().display_info()\n",
    "        print(f\"Wool Yield: {self.wool_yield} kg/year\")\n",
    "\n",
    "class Goat(FarmAnimal):\n",
    "    def __init__(self, breed, age, gender, weight, milk_output, climbing_skill):\n",
    "        super().__init__(\"Goat\", breed, age, gender, \"Dairy\", \"Herbivore\", weight, \"Mountain/Pasture\")\n",
    "        self.milk_output = milk_output  # Liters of milk/day\n",
    "        self.climbing_skill = climbing_skill  # e.g., \"Expert\", \"Moderate\"\n",
    "\n",
    "    def climb(self):\n",
    "        print(f\"This goat is an {self.climbing_skill} climber.\")\n",
    "\n",
    "    def display_info(self):\n",
    "        super().display_info()\n",
    "        print(f\"Milk Output: {self.milk_output} liters/day\")\n",
    "        print(f\"Climbing Skill: {self.climbing_skill}\")\n"
   ]
  },
  {
   "cell_type": "code",
   "execution_count": 15,
   "metadata": {},
   "outputs": [
    {
     "name": "stdout",
     "output_type": "stream",
     "text": [
      "Cow (Holstein) - 4 years old, Female\n",
      "Use: Dairy | Diet: Grass | Weight: 600 kg\n",
      "Habitat: Pasture\n",
      "Milk Output: 30 liters/day\n",
      "_______________________________\n",
      "Chicken (Sussex) - 1 years old, Male\n",
      "Use: Eggs | Diet: Grains | Weight: 2 kg\n",
      "Habitat: Coop\n",
      "_______________________________\n",
      "Pig (Berkshire) - 2 years old, Male\n",
      "Use: Meat | Diet: Omnivore | Weight: 150 kg\n",
      "Habitat: Pen\n",
      "Meat Quality: High\n",
      "_______________________________\n",
      "Sheep (Merino) - 3 years old, Female\n",
      "Use: Wool | Diet: Grass | Weight: 75 kg\n",
      "Habitat: Pasture\n",
      "Wool Yield: 5.5 kg/year\n",
      "_______________________________\n",
      "Goat (Alpine) - 4 years old, Female\n",
      "Use: Dairy | Diet: Herbivore | Weight: 60 kg\n",
      "Habitat: Mountain/Pasture\n",
      "Milk Output: 3 liters/day\n",
      "Climbing Skill: Expert\n",
      "_______________________________\n"
     ]
    }
   ],
   "source": [
    "cow = Cow(breed=\"Holstein\", age=4, gender=\"Female\", use=\"Dairy\", diet=\"Grass\", weight=600, milk_output=30)\n",
    "chicken = Chicken(\"Sussex\", 1, \"Male\", 4)\n",
    "pig = Pig(\"Berkshire\", 2, \"Male\", 150, \"Meat\", \"High\")\n",
    "sheep = Sheep(\"Merino\", 3, \"Female\", 75, 5.5)\n",
    "goat = Goat(\"Alpine\", 4, \"Female\", 60, 3, \"Expert\")\n",
    "\n",
    "cow.display_info()\n",
    "print(\"_______________________________\")\n",
    "chicken.display_info()\n",
    "print(\"_______________________________\")\n",
    "pig.display_info()\n",
    "print(\"_______________________________\")\n",
    "sheep.display_info()\n",
    "print(\"_______________________________\")\n",
    "goat.display_info()\n",
    "print(\"_______________________________\")"
   ]
  }
 ],
 "metadata": {
  "kernelspec": {
   "display_name": "ETE4990",
   "language": "python",
   "name": "python3"
  },
  "language_info": {
   "codemirror_mode": {
    "name": "ipython",
    "version": 3
   },
   "file_extension": ".py",
   "mimetype": "text/x-python",
   "name": "python",
   "nbconvert_exporter": "python",
   "pygments_lexer": "ipython3",
   "version": "3.13.1"
  }
 },
 "nbformat": 4,
 "nbformat_minor": 2
}
