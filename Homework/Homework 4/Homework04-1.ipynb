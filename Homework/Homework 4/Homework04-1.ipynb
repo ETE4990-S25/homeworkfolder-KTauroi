{
 "cells": [
  {
   "cell_type": "markdown",
   "id": "94336058-4ebc-4a98-9a56-de67b67d5ce5",
   "metadata": {},
   "source": [
    "# Homework #4\n",
    "\n",
    "Develop a function named decode(message_file). \n",
    "\n",
    "This function should read an encoded message from a .txt file and return its decoded version as a string.\n",
    "\n",
    "Your function must be able to process an input file with the following format:\n",
    "\n",
    "```\n",
    "3 love\n",
    "6 computers\n",
    "2 dogs\n",
    "4 cats\n",
    "1 I\n",
    "5 you\n",
    "```\n",
    "\n",
    "In this file, each line contains a number followed by a word. The task is to decode a hidden message based on the arrangement of these numbers into a \"pyramid\" structure. The numbers are placed into the pyramid in ascending order, with each line of the pyramid having one more number than the line above it. The smallest number is 1, and the numbers increase consecutively, like so:\n",
    "\n",
    "```\n",
    "   1\n",
    "  2 3\n",
    " 4 5 6\n",
    "7 8 9 10\n",
    "```\n",
    "\n",
    "The key to decoding the message is to use the words corresponding to the numbers at the end of each pyramid line (in this example, 1, 3, and 6). You should ignore all the other words. So for the example input file above, the message words are:\n",
    "\n",
    "```\n",
    "1: I\n",
    "3: love\n",
    "6: computers\n",
    "```\n",
    "and your function should return the string \"I love computers\".\n",
    "\n"
   ]
  },
  {
   "cell_type": "code",
   "execution_count": 18,
   "id": "a7088be2",
   "metadata": {},
   "outputs": [
    {
     "name": "stdout",
     "output_type": "stream",
     "text": [
      "{193: 'land', 284: 'sun', 16: 'too', 136: 'solved', 26: 'dont', 286: 'such', 130: 'noun', 202: 'student', 184: 'brown', 135: 'complete', 118: 'play', 29: 'cook', 72: 'yard', 233: 'clock', 275: 'would', 265: 'plain', 5: 'excite', 132: 'fire', 28: 'with', 213: 'cool', 272: 'child', 163: 'past', 212: 'colony', 222: 'oil', 7: 'dog', 115: 'back', 100: 'money', 214: 'kind', 64: 'open', 107: 'finger', 19: 'touch', 109: 'are', 241: 'dad', 104: 'am', 208: 'modern', 108: 'meant', 44: 'ocean', 228: 'pitch', 194: 'suit', 58: 'town', 179: 'east', 204: 'over', 35: 'group', 250: 'good', 137: 'kind', 257: 'down', 71: 'band', 203: 'especially', 113: 'organ', 2: 'of', 218: 'fire', 197: 'out', 247: 'area', 280: 'touch', 299: 'happen', 126: 'sat', 105: 'can', 198: 'wrote', 67: 'buy', 120: 'be', 252: 'stop', 13: 'corn', 201: 'where', 264: 'skills', 34: 'live', 150: 'best', 86: 'hold', 292: 'cause', 235: 'grand', 30: 'present', 138: 'indicate', 92: 'counter', 87: 'we', 183: 'like', 36: 'all', 79: 'state', 263: 'morning', 227: 'true', 209: 'are', 234: 'ball', 254: 'history', 219: 'seat', 62: 'rain', 53: 'less', 84: 'glass', 178: 'tone', 48: 'song', 156: 'fair', 226: 'element', 25: 'speed', 77: 'produce', 223: 'quotient', 46: 'sand', 232: 'begin', 83: 'moment', 66: 'in', 267: 'probable', 3: 'all', 140: 'necessary', 281: 'post', 38: 'cent', 225: 'happen', 278: 'speech', 161: 'object', 283: 'silver', 216: 'third', 166: 'crease', 261: 'wait', 168: 'triangle', 239: 'idea', 240: 'clothe', 169: 'young', 139: 'discuss', 243: 'field', 89: 'company', 96: 'capital', 255: 'compare', 99: 'chart', 122: 'possible', 174: 'written', 162: 'remember', 144: 'mile', 256: 'cold', 259: 'lady', 274: 'felt', 95: 'against', 123: 'skin', 124: 'prepare', 42: 'he', 294: 'in', 196: 'organ', 145: 'object', 253: 'in', 287: 'major', 20: 'discuss', 153: 'by', 111: 'hole', 75: 'above', 266: 'they', 236: 'produce', 224: 'straight', 285: 'level', 164: 'though', 290: 'modern', 65: 'dry', 262: 'bought', 90: 'milk', 127: 'make', 165: 'show', 23: 'middle', 170: 'center', 97: 'blood', 159: 'speak', 12: 'prove', 51: 'select', 4: 'power', 172: 'come', 68: 'brown', 167: 'experiment', 230: 'strong', 101: 'hurry', 24: 'touch', 296: 'reach', 22: 'case', 119: 'beat', 182: 'over', 185: 'dry', 40: 'hill', 69: 'company', 8: 'opposite', 143: 'work', 268: 'field', 188: 'felt', 187: 'prepare', 45: 'the', 82: 'his', 269: 'stay', 279: 'toward', 245: 'observe', 289: 'time', 149: 'stop', 295: 'possible', 171: 'a', 14: 'prepare', 190: 'system', 57: 'compare', 116: 'neighbor', 88: 'thus', 112: 'include', 103: 'copy', 47: 'bit', 133: 'stead', 134: 'does', 80: 'general', 258: 'solve', 271: 'glad', 158: 'duck', 229: 'offer', 176: 'happen', 177: 'ball', 291: 'bread', 244: 'like', 117: 'machine', 238: 'come', 59: 'any', 129: 'band', 63: 'it', 94: 'section', 60: 'close', 273: 'heavy', 43: 'produce', 237: 'got', 102: 'possible', 251: 'insect', 231: 'have', 50: 'platter', 18: 'men', 211: 'bird', 146: 'ease', 220: 'trade', 151: 'winter', 277: 'am', 157: 'repeat', 114: 'first', 242: 'to', 154: 'each', 297: 'guide', 152: 'column', 206: 'single', 260: 'remember', 155: 'wild', 282: 'major', 125: 'coast', 175: 'class', 11: 'done', 160: 'jump', 217: 'sister', 248: 'feel', 15: 'so', 76: 'fire', 17: 'nine', 181: 'indicate', 276: 'place', 10: 'life', 121: 'her', 192: 'the', 128: 'temperature', 1: 'design', 56: 'big', 6: 'your', 186: 'friend', 33: 'hit', 300: 'today', 191: 'instant', 288: 'blow', 85: 'about', 32: 'chick', 199: 'answer', 210: 'you', 81: 'material', 249: 'man', 246: 'think', 98: 'print', 141: 'nor', 142: 'better', 73: 'example', 61: 'people', 41: 'drink', 27: 'gun', 110: 'together', 49: 'cost', 180: 'require', 293: 'or', 91: 'day', 39: 'put', 54: 'ease', 215: 'ready', 74: 'enough', 37: 'sugar', 21: 'that', 52: 'with', 131: 'us', 270: 'share', 93: 'office', 106: 'protect', 200: 'low', 221: 'thus', 173: 'farm', 9: 'oxygen', 207: 'fire', 70: 'force', 195: 'select', 147: 'paragraph', 298: 'always', 205: 'poem', 31: 'chick', 78: 'a', 189: 'fact', 55: 'problems', 148: 'term'}\n"
     ]
    }
   ],
   "source": [
    "def create_dict_from_file(file_path):\n",
    "    # Create an empty dictionary to store the key-value pairs\n",
    "    dictionary = {}\n",
    "\n",
    "    # Open the file in read mode\n",
    "    with open(file_path, 'r') as file:\n",
    "        # Read each line from the file\n",
    "        for line in file:\n",
    "            # Strip any leading/trailing spaces or newlines\n",
    "            line = line.strip()\n",
    "            \n",
    "            # Split the line into parts based on spaces (key-value pairs)\n",
    "            parts = line.split()\n",
    "            \n",
    "            if len(parts) == 2:  # Ensure that there are exactly two parts (key and value)\n",
    "                key = int(parts[0])  # Convert the first part to an integer (key)\n",
    "                value = parts[1]     # The second part is the word (value)\n",
    "                \n",
    "                # Add the key-value pair to the dictionary\n",
    "                dictionary[key] = value\n",
    "\n",
    "    return dictionary\n",
    "\n",
    "# Sample usage\n",
    "file_path = 'SecretMessage.txt'  # Replace this with the path to your file\n",
    "my_dict = create_dict_from_file(file_path)\n",
    "\n",
    "# Print the resulting dictionary\n",
    "print(my_dict)\n"
   ]
  },
  {
   "cell_type": "code",
   "execution_count": 23,
   "id": "62cc1d8f",
   "metadata": {},
   "outputs": [
    {
     "name": "stdout",
     "output_type": "stream",
     "text": [
      "\n"
     ]
    }
   ],
   "source": [
    "with open('SecretMessage.txt', 'r') as file:\n",
    "    numbers = file.readlines()\n",
    "\n",
    "# Convert each line (number) into a word and store them\n",
    "words = []\n",
    "for line in numbers:\n",
    "    number = (line.strip())  # convert to an integer\n",
    "    if number in my_dict:\n",
    "        words.append(my_dict[number])\n",
    "\n",
    "# Join the words into a sentence or paragraph\n",
    "sentence = ' '.join(words)\n",
    "\n",
    "# Print the resulting sentence\n",
    "print(sentence)"
   ]
  },
  {
   "cell_type": "code",
   "execution_count": 16,
   "id": "2532f781-eb6b-4dcc-aad7-b1463a8f51a6",
   "metadata": {},
   "outputs": [],
   "source": [
    "def create_dictionary(file_path):\n",
    "\n",
    "    number_to_word = {}\n",
    "\n",
    "    with open(file_path, \"r\") as file:\n",
    "        for line in file:\n",
    "            parts = line.strip().split()\n",
    "            if len(parts) == 2:\n",
    "                number = int(parts[0]) \n",
    "                word = parts[1]        \n",
    "                number_to_word[number] = word\n",
    "    \n",
    "    return number_to_word\n",
    "\n",
    "def decode_numbers(file_path):\n",
    "    # create dictionary of numbers and meaning\n",
    "    number_to_word = create_dictionary(file_path)\n",
    "    \n",
    "\n",
    "    print(\"Generated Dictionary:\", number_to_word)\n",
    "\n",
    "    \n",
    "    numbers_to_decode = [193, 284, 16, 136, 26]\n",
    "    \n",
    "    \n",
    "    decoded_words = [number_to_word.get(number, \"UNKNOWN\") for number in numbers_to_decode]\n",
    "    \n",
    "   \n",
    "    return ' '.join(decoded_words)\n",
    "\n",
    "\n",
    "  "
   ]
  },
  {
   "cell_type": "code",
   "execution_count": 17,
   "id": "e767cf21",
   "metadata": {},
   "outputs": [
    {
     "name": "stdout",
     "output_type": "stream",
     "text": [
      "Generated Dictionary: {193: 'land', 284: 'sun', 16: 'too', 136: 'solved', 26: 'dont', 286: 'such', 130: 'noun', 202: 'student', 184: 'brown', 135: 'complete', 118: 'play', 29: 'cook', 72: 'yard', 233: 'clock', 275: 'would', 265: 'plain', 5: 'excite', 132: 'fire', 28: 'with', 213: 'cool', 272: 'child', 163: 'past', 212: 'colony', 222: 'oil', 7: 'dog', 115: 'back', 100: 'money', 214: 'kind', 64: 'open', 107: 'finger', 19: 'touch', 109: 'are', 241: 'dad', 104: 'am', 208: 'modern', 108: 'meant', 44: 'ocean', 228: 'pitch', 194: 'suit', 58: 'town', 179: 'east', 204: 'over', 35: 'group', 250: 'good', 137: 'kind', 257: 'down', 71: 'band', 203: 'especially', 113: 'organ', 2: 'of', 218: 'fire', 197: 'out', 247: 'area', 280: 'touch', 299: 'happen', 126: 'sat', 105: 'can', 198: 'wrote', 67: 'buy', 120: 'be', 252: 'stop', 13: 'corn', 201: 'where', 264: 'skills', 34: 'live', 150: 'best', 86: 'hold', 292: 'cause', 235: 'grand', 30: 'present', 138: 'indicate', 92: 'counter', 87: 'we', 183: 'like', 36: 'all', 79: 'state', 263: 'morning', 227: 'true', 209: 'are', 234: 'ball', 254: 'history', 219: 'seat', 62: 'rain', 53: 'less', 84: 'glass', 178: 'tone', 48: 'song', 156: 'fair', 226: 'element', 25: 'speed', 77: 'produce', 223: 'quotient', 46: 'sand', 232: 'begin', 83: 'moment', 66: 'in', 267: 'probable', 3: 'all', 140: 'necessary', 281: 'post', 38: 'cent', 225: 'happen', 278: 'speech', 161: 'object', 283: 'silver', 216: 'third', 166: 'crease', 261: 'wait', 168: 'triangle', 239: 'idea', 240: 'clothe', 169: 'young', 139: 'discuss', 243: 'field', 89: 'company', 96: 'capital', 255: 'compare', 99: 'chart', 122: 'possible', 174: 'written', 162: 'remember', 144: 'mile', 256: 'cold', 259: 'lady', 274: 'felt', 95: 'against', 123: 'skin', 124: 'prepare', 42: 'he', 294: 'in', 196: 'organ', 145: 'object', 253: 'in', 287: 'major', 20: 'discuss', 153: 'by', 111: 'hole', 75: 'above', 266: 'they', 236: 'produce', 224: 'straight', 285: 'level', 164: 'though', 290: 'modern', 65: 'dry', 262: 'bought', 90: 'milk', 127: 'make', 165: 'show', 23: 'middle', 170: 'center', 97: 'blood', 159: 'speak', 12: 'prove', 51: 'select', 4: 'power', 172: 'come', 68: 'brown', 167: 'experiment', 230: 'strong', 101: 'hurry', 24: 'touch', 296: 'reach', 22: 'case', 119: 'beat', 182: 'over', 185: 'dry', 40: 'hill', 69: 'company', 8: 'opposite', 143: 'work', 268: 'field', 188: 'felt', 187: 'prepare', 45: 'the', 82: 'his', 269: 'stay', 279: 'toward', 245: 'observe', 289: 'time', 149: 'stop', 295: 'possible', 171: 'a', 14: 'prepare', 190: 'system', 57: 'compare', 116: 'neighbor', 88: 'thus', 112: 'include', 103: 'copy', 47: 'bit', 133: 'stead', 134: 'does', 80: 'general', 258: 'solve', 271: 'glad', 158: 'duck', 229: 'offer', 176: 'happen', 177: 'ball', 291: 'bread', 244: 'like', 117: 'machine', 238: 'come', 59: 'any', 129: 'band', 63: 'it', 94: 'section', 60: 'close', 273: 'heavy', 43: 'produce', 237: 'got', 102: 'possible', 251: 'insect', 231: 'have', 50: 'platter', 18: 'men', 211: 'bird', 146: 'ease', 220: 'trade', 151: 'winter', 277: 'am', 157: 'repeat', 114: 'first', 242: 'to', 154: 'each', 297: 'guide', 152: 'column', 206: 'single', 260: 'remember', 155: 'wild', 282: 'major', 125: 'coast', 175: 'class', 11: 'done', 160: 'jump', 217: 'sister', 248: 'feel', 15: 'so', 76: 'fire', 17: 'nine', 181: 'indicate', 276: 'place', 10: 'life', 121: 'her', 192: 'the', 128: 'temperature', 1: 'design', 56: 'big', 6: 'your', 186: 'friend', 33: 'hit', 300: 'today', 191: 'instant', 288: 'blow', 85: 'about', 32: 'chick', 199: 'answer', 210: 'you', 81: 'material', 249: 'man', 246: 'think', 98: 'print', 141: 'nor', 142: 'better', 73: 'example', 61: 'people', 41: 'drink', 27: 'gun', 110: 'together', 49: 'cost', 180: 'require', 293: 'or', 91: 'day', 39: 'put', 54: 'ease', 215: 'ready', 74: 'enough', 37: 'sugar', 21: 'that', 52: 'with', 131: 'us', 270: 'share', 93: 'office', 106: 'protect', 200: 'low', 221: 'thus', 173: 'farm', 9: 'oxygen', 207: 'fire', 70: 'force', 195: 'select', 147: 'paragraph', 298: 'always', 205: 'poem', 31: 'chick', 78: 'a', 189: 'fact', 55: 'problems', 148: 'term'}\n",
      "Decoded message:  land sun too solved dont\n"
     ]
    }
   ],
   "source": [
    "file_path = 'SecretMessage.txt'\n",
    "\n",
    "unlocked_message = decode_numbers(file_path)\n",
    "print(\"Decoded message: \", unlocked_message)"
   ]
  }
 ],
 "metadata": {
  "kernelspec": {
   "display_name": "ETE4990",
   "language": "python",
   "name": "python3"
  },
  "language_info": {
   "codemirror_mode": {
    "name": "ipython",
    "version": 3
   },
   "file_extension": ".py",
   "mimetype": "text/x-python",
   "name": "python",
   "nbconvert_exporter": "python",
   "pygments_lexer": "ipython3",
   "version": "3.13.1"
  }
 },
 "nbformat": 4,
 "nbformat_minor": 5
}
