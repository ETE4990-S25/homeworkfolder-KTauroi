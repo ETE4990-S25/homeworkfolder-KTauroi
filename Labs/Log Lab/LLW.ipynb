{
 "cells": [
  {
   "cell_type": "markdown",
   "id": "5f2283c1",
   "metadata": {},
   "source": [
    "## Log Lab"
   ]
  },
  {
   "cell_type": "markdown",
   "id": "61fe38af",
   "metadata": {},
   "source": [
    "# Example nonsense"
   ]
  },
  {
   "cell_type": "code",
   "execution_count": 1,
   "id": "563f8cbd",
   "metadata": {},
   "outputs": [
    {
     "name": "stderr",
     "output_type": "stream",
     "text": [
      "WARNING:root:Watch out!\n"
     ]
    }
   ],
   "source": [
    "import logging\n",
    "logging.warning('Watch out!')  # will print a message to the console\n",
    "logging.info('I told you so')  # will not print anything"
   ]
  },
  {
   "cell_type": "markdown",
   "id": "8412ef5e",
   "metadata": {},
   "source": [
    "## Logging to a file Example"
   ]
  },
  {
   "cell_type": "code",
   "execution_count": 4,
   "id": "ba203337",
   "metadata": {},
   "outputs": [],
   "source": [
    "# FileHandler - timedRotating\n",
    "\n",
    "import logging.handlers\n",
    "from datetime import timedelta, datetime\n",
    "\n",
    "logger = logging.getLogger()\n",
    "\n",
    "logger.setLevel(logging.INFO) # set the logging level to INFO\n",
    "\n",
    "# create a file handler that logs to a file\n",
    "logger.addHandler(\n",
    "    logging.handlers.TimedRotatingFileHandler(\n",
    "        filename=\"archived_log.log\", #file name\n",
    "        when=\"D\", #rolls the log every day\n",
    "        backupCount=3, # only keep 3 days worth of file backups\n",
    "    )\n",
    ")"
   ]
  },
  {
   "cell_type": "markdown",
   "id": "7089397a",
   "metadata": {},
   "source": [
    "# Log Messages"
   ]
  },
  {
   "cell_type": "code",
   "execution_count": null,
   "id": "c94a34ff",
   "metadata": {},
   "outputs": [],
   "source": [
    "import logging\n",
    "debuglog.critical(\"there is no more disk space\")\n",
    "debuglog.error(\"file not found creating new file\")\n",
    "debuglog.warning(\"disk space is low\")\n",
    "debuglog.info(\"user logged in with correct password\")"
   ]
  },
  {
   "cell_type": "markdown",
   "id": "d4cc196a",
   "metadata": {},
   "source": [
    "## Log Files"
   ]
  },
  {
   "cell_type": "code",
   "execution_count": null,
   "id": "9544af31",
   "metadata": {},
   "outputs": [],
   "source": [
    "parentLog = logging.getLogger(\"sys\")\n",
    "parentLog.setLevel(logging.DEBUG)\n",
    "\n",
    "\n",
    "infoLog = logging.getLogger(\"sys.info\")\n",
    "infoLog.setLevel(logging.INFO, 'information')\n",
    "\n",
    "warningLog = logging.getLogger(\"sys.warning\")\n",
    "warningLog.setLevel(logging.WARNING, 'Warning')\n",
    "\n",
    "errorLog = logging.getLogger(\"sys.error\")\n",
    "errorLog.setLevel(logging.ERROR, 'error')\n",
    "\n",
    "criticalLog = logging.getLogger(\"sys.critical\")\n",
    "criticalLog.setLevel(logging.CRITICAL, 'critical')\n",
    "\n",
    "formatter = logging.Formatter(\n",
    "    fmt=(\n",
    "        \"%(asctime)s | %(name)s | %(levelname)s | \"\n",
    "        \"%(message)s\"\n",
    "    )\n",
    ")\n",
    "\n",
    "handler = logging.handlers.TimedRotatingFileHandler(\n",
    "    filename=\"parent.log\",\n",
    "    when=\"D\",\n",
    "    backupCount=3,\n",
    ")\n",
    "\n",
    "handler2 = logging.handlers.TimedRotatingFileHandler(\n",
    "    filename=\"child.log\",\n",
    "    when=\"D\",\n",
    "    backupCount=3,\n",
    ")\n",
    "\n",
    "handler.setFormatter(formatter)\n",
    "parentLog.addHandler(handler)"
   ]
  }
 ],
 "metadata": {
  "kernelspec": {
   "display_name": "ETE4990",
   "language": "python",
   "name": "python3"
  },
  "language_info": {
   "codemirror_mode": {
    "name": "ipython",
    "version": 3
   },
   "file_extension": ".py",
   "mimetype": "text/x-python",
   "name": "python",
   "nbconvert_exporter": "python",
   "pygments_lexer": "ipython3",
   "version": "3.13.1"
  }
 },
 "nbformat": 4,
 "nbformat_minor": 5
}
