{
 "cells": [
  {
   "cell_type": "markdown",
   "id": "5f2283c1",
   "metadata": {},
   "source": [
    "## Log Lab"
   ]
  },
  {
   "cell_type": "markdown",
   "id": "61fe38af",
   "metadata": {},
   "source": [
    "# Example nonsense"
   ]
  },
  {
   "cell_type": "code",
   "execution_count": 4,
   "id": "563f8cbd",
   "metadata": {},
   "outputs": [
    {
     "name": "stderr",
     "output_type": "stream",
     "text": [
      "WARNING:root:Watch out!\n"
     ]
    }
   ],
   "source": [
    "import logging\n",
    "logging.warning('Watch out!')  # will print a message to the console\n",
    "logging.info('I told you so')  # will not print anything"
   ]
  },
  {
   "cell_type": "markdown",
   "id": "8412ef5e",
   "metadata": {},
   "source": [
    "## Logging to a file Example"
   ]
  },
  {
   "cell_type": "code",
   "execution_count": 5,
   "id": "ba203337",
   "metadata": {},
   "outputs": [],
   "source": [
    "# FileHandler - timedRotating\n",
    "\n",
    "import logging.handlers\n",
    "from datetime import timedelta, datetime\n",
    "\n",
    "logger = logging.getLogger()\n",
    "\n",
    "logger.setLevel(logging.INFO) # set the logging level to INFO\n",
    "\n",
    "# create a file handler that logs to a file\n",
    "logger.addHandler(\n",
    "    logging.handlers.TimedRotatingFileHandler(\n",
    "        filename=\"archived_log.log\", #file name\n",
    "        when=\"D\", #rolls the log every day\n",
    "        backupCount=3, # only keep 3 days worth of file backups\n",
    "    )\n",
    ")"
   ]
  },
  {
   "cell_type": "markdown",
   "id": "7089397a",
   "metadata": {},
   "source": [
    "# Log Messages"
   ]
  },
  {
   "cell_type": "code",
   "execution_count": 6,
   "id": "96c94259",
   "metadata": {},
   "outputs": [],
   "source": [
    "import logging"
   ]
  },
  {
   "cell_type": "code",
   "execution_count": 10,
   "id": "c94a34ff",
   "metadata": {},
   "outputs": [
    {
     "name": "stderr",
     "output_type": "stream",
     "text": [
      "CRITICAL:test:there is no more disk space\n",
      "ERROR:test:file not found creating new file\n",
      "WARNING:test:disk space is low\n",
      "INFO:test:user logged in with correct password\n"
     ]
    }
   ],
   "source": [
    "debuglog = logging.getLogger('test')\n",
    "debuglog.critical(\"there is no more disk space\")\n",
    "debuglog.error(\"file not found creating new file\")\n",
    "debuglog.warning(\"disk space is low\")\n",
    "debuglog.info(\"user logged in with correct password\")"
   ]
  },
  {
   "cell_type": "markdown",
   "id": "d4cc196a",
   "metadata": {},
   "source": [
    "## Log Files"
   ]
  },
  {
   "cell_type": "code",
   "execution_count": 12,
   "id": "9544af31",
   "metadata": {},
   "outputs": [],
   "source": [
    "parentLog = logging.getLogger(\"sys\")\n",
    "parentLog.setLevel(logging.DEBUG)\n",
    "\n",
    "\n",
    "infoLog = logging.getLogger(\"sys.info\")\n",
    "infoLog.setLevel(logging.INFO)\n",
    "\n",
    "warningLog = logging.getLogger(\"sys.warning\")\n",
    "warningLog.setLevel(logging.WARNING)\n",
    "\n",
    "errorLog = logging.getLogger(\"sys.error\")\n",
    "errorLog.setLevel(logging.ERROR)\n",
    "\n",
    "criticalLog = logging.getLogger(\"sys.critical\")\n",
    "criticalLog.setLevel(logging.CRITICAL)\n",
    "\n",
    "formatter = logging.Formatter(\n",
    "    fmt=(\n",
    "        \"%(asctime)s | %(name)s | %(levelname)s | \"\n",
    "        \"%(message)s\"\n",
    "    )\n",
    ")\n",
    "\n",
    "handler = logging.handlers.TimedRotatingFileHandler(\n",
    "    filename=\"parent.log\",\n",
    "    when=\"D\",\n",
    "    backupCount=3,\n",
    ")\n",
    "\n",
    "handler2 = logging.handlers.TimedRotatingFileHandler(\n",
    "    filename=\"child.log\",\n",
    "    when=\"D\",\n",
    "    backupCount=3,\n",
    ")\n",
    "\n",
    "handler.setFormatter(formatter)\n",
    "parentLog.addHandler(handler)"
   ]
  },
  {
   "cell_type": "markdown",
   "id": "f284445c",
   "metadata": {},
   "source": [
    "Fixed corupt work"
   ]
  },
  {
   "cell_type": "code",
   "execution_count": 1,
   "id": "f9739e16",
   "metadata": {},
   "outputs": [],
   "source": [
    "import logging\n",
    "import logging.handlers\n",
    "\n",
    "#Format\n",
    "formatter = logging.Formatter(\n",
    "    fmt=\"%(asctime)s | %(name)s | %(levelname)s | %(message)s\"\n",
    ")\n",
    "\n",
    "# Parent logger\n",
    "parentLog = logging.getLogger(\"sys\")\n",
    "parentLog.setLevel(logging.DEBUG)\n",
    "\n",
    "# Utility function to attach handler to a logger\n",
    "def setup_logger(name, level, filename):\n",
    "    logger = logging.getLogger(name)\n",
    "    logger.setLevel(level)\n",
    "    handler = logging.handlers.TimedRotatingFileHandler(\n",
    "        filename=filename,\n",
    "        when=\"D\",\n",
    "        backupCount=2,\n",
    "    )\n",
    "    handler.setFormatter(formatter)\n",
    "    logger.addHandler(handler)\n",
    "    logger.propagate = False  # Prevent logging to parent\n",
    "    return logger\n",
    "\n",
    "# Set up each logger with its own file\n",
    "infoLog = setup_logger(\"sys.info\", logging.INFO, \"info.log\")\n",
    "warningLog = setup_logger(\"sys.warning\", logging.WARNING, \"warning.log\")\n",
    "errorLog = setup_logger(\"sys.error\", logging.ERROR, \"error.log\")\n",
    "criticalLog = setup_logger(\"sys.critical\", logging.CRITICAL, \"critical.log\")\n",
    "\n",
    "# Example usage\n",
    "infoLog.info(\"This is an info message.\")\n",
    "warningLog.warning(\"This is a warning.\")\n",
    "errorLog.error(\"This is an error.\")\n",
    "criticalLog.critical(\"This is critical.\")\n"
   ]
  }
 ],
 "metadata": {
  "kernelspec": {
   "display_name": "ETE4990",
   "language": "python",
   "name": "python3"
  },
  "language_info": {
   "codemirror_mode": {
    "name": "ipython",
    "version": 3
   },
   "file_extension": ".py",
   "mimetype": "text/x-python",
   "name": "python",
   "nbconvert_exporter": "python",
   "pygments_lexer": "ipython3",
   "version": "3.13.1"
  }
 },
 "nbformat": 4,
 "nbformat_minor": 5
}
