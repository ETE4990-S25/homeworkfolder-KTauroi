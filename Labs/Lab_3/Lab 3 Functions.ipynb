{
 "cells": [
  {
   "cell_type": "markdown",
   "id": "abfb9ed7-bb94-48c3-88f0-6693f26b3f7c",
   "metadata": {},
   "source": [
    "# Lab 3 - Files and Functions\n"
   ]
  },
  {
   "cell_type": "markdown",
   "id": "5dd841b5-4e31-428c-a56b-5a74f1aa8c75",
   "metadata": {},
   "source": [
    "## Warm-up \n",
    "\n",
    "Part 1:\n",
    "Write a python file that can be imported.\n",
    "\n",
    "\n"
   ]
  },
  {
   "cell_type": "code",
   "execution_count": 1,
   "id": "9916dca4-e082-47ba-957a-d285cd0abce0",
   "metadata": {},
   "outputs": [
    {
     "name": "stdout",
     "output_type": "stream",
     "text": [
      "Kenobi\n",
      "['Charlie', 'Dave', 'Harold']\n"
     ]
    }
   ],
   "source": [
    "# Code goes here\n",
    "from data import dude, get_name, names\n",
    "print(dude)\n",
    "print(names)"
   ]
  },
  {
   "cell_type": "markdown",
   "id": "5935273d",
   "metadata": {},
   "source": [
    "\n",
    "Part 2: \n",
    "Using the following as a starting point create a python file that will take in a a name and\n",
    "a list of names and tell you if that name is in the list."
   ]
  },
  {
   "cell_type": "code",
   "execution_count": null,
   "id": "64949662",
   "metadata": {},
   "outputs": [
    {
     "name": "stdout",
     "output_type": "stream",
     "text": [
      "['Alice', 'Bob', 'Charlie', 'David', 'Eve']\n",
      "['Frank', 'John', 'Harold', 'Kenobi']\n",
      "Final Matches []\n"
     ]
    }
   ],
   "source": [
    "# Code goes here\n",
    "matches = []\n",
    "main_list = [\"Frank\", \"John\", \"Harold\", \"Kenobi\"] #New list\n",
    "name = ['Alice', 'Bob', 'Charlie', 'David', 'Eve']\n",
    "print(name)\n",
    "print(main_list)\n",
    "for name in main_list: #Name in main list \n",
    "    if name in names: #If it's also in imported list\n",
    "        print(\"match found: \", name) #Say what the match was\n",
    "        matches.append(name) #add name match to list of matching names\n",
    "\n",
    "print(\"Final Matches\", matches)\n",
    "\n",
    "\n"
   ]
  },
  {
   "cell_type": "markdown",
   "id": "bc4fbb46-483b-479b-97d5-82e2dc7f4346",
   "metadata": {},
   "source": [
    "# Main Lab\n",
    "\n",
    "Take time to begin working with your partner on your project. Begin to plan out how you would like your game to feel. Remember this is a text-based game. This can be any game you would like \n",
    "\n",
    "    Please stay away from games or software like poker or 21 as these tend to be boring to code and hard to add more to later on, and obviously games that may get you reported by the university.\n",
    "\n",
    "\n",
    "## Part 1:\n",
    "\n",
    "Divide up your code and begin  writing the code.\n",
    "\n",
    "Keep in mind that when you write your code you will need to be interfacing with your partners code, loading in your player, tools/items/etc, interfacing with the world, monsters and so on. So plan accordingly.\n",
    "\n",
    "\n",
    "While we have not gotten to classes take some time to try and code some simple classes. \n",
    "Here is an example:\n",
    "```python \n",
    "\n",
    "#Good\n",
    "class Sharps(object):\n",
    "    \"\"\"Create a sharp weapon\"\"\"\n",
    "    def __init__(self, name, length, age=1, damage=0):\n",
    "        \"\"\" Initialize name, age, and length damage attributes.\"\"\"\n",
    "        self.name = name\n",
    "        self.age = age\n",
    "        self.length = length\n",
    "        self.damage = damage\n",
    "    def do_damage(self, target):\n",
    "        target = target - self.damage\n",
    "\n",
    "class dager(Sharps):\n",
    "    \"\"\" makes a dager\"\"\"\n",
    "    def __init__(self, name, length, age=1, damage=0):\n",
    "        \"\"\"sets up a dagger\"\"\"\n",
    "        super().__init__(self, name, length, age, damage))\n",
    "        self.poision = True\n",
    "```\n",
    "        \n",
    "\n"
   ]
  },
  {
   "cell_type": "markdown",
   "id": "73b92c92",
   "metadata": {},
   "source": []
  },
  {
   "cell_type": "markdown",
   "id": "2edc287e",
   "metadata": {},
   "source": [
    "# Game Code"
   ]
  },
  {
   "cell_type": "markdown",
   "id": "3e244781",
   "metadata": {},
   "source": [
    "+ Backpack\n",
    "    + Items\n",
    "        + info & remove/add to backpack\n",
    "            + 3 tiers for each weapon (Warrior, Assassin, Bard, Mage, Cleric) - (Sword, Dagger, Staff, Instrument, Mace/Staff)\n",
    "\n",
    "+ Combat\n",
    "    + Health totals IE 4/16 hp\n",
    "    + Melee and magic with damage\n",
    "\n",
    "+ Character\n",
    "    + Health and Stats\n",
    "\n",
    "+ Encounters\n",
    "    + User Guided Promts\n",
    "    + Combat and Conversations\n",
    "\n",
    "+ Currency\n",
    "    + Capatilism......profit????????????????????? 💸💸💸"
   ]
  },
  {
   "cell_type": "markdown",
   "id": "4fe4e2de",
   "metadata": {},
   "source": [
    "## Items Importing 🏦"
   ]
  },
  {
   "cell_type": "markdown",
   "id": "ead8b136",
   "metadata": {},
   "source": [
    "## Thats a lot of items💀💀💀"
   ]
  },
  {
   "cell_type": "markdown",
   "id": "feb5a6ed",
   "metadata": {},
   "source": [
    "### loop to generate weapon based on rarity"
   ]
  },
  {
   "cell_type": "code",
   "execution_count": 4,
   "id": "2871c524",
   "metadata": {},
   "outputs": [
    {
     "name": "stdout",
     "output_type": "stream",
     "text": [
      "{'name': 'Alice', 'occupation': 'Engineer'}\n",
      "{'name': 'Bob', 'occupation': 'Artist'}\n",
      "{'name': 'Charlie', 'occupation': 'Doctor'}\n",
      "{'name': 'David', 'occupation': 'Scientist'}\n",
      "{'name': 'Eve', 'occupation': 'Writer'}\n"
     ]
    }
   ],
   "source": [
    "# List of strings for dictionary keys and values\n",
    "names = [\"Alice\", \"Bob\", \"Charlie\", \"David\", \"Eve\"]\n",
    "occupations = [\"Engineer\", \"Artist\", \"Doctor\", \"Scientist\", \"Writer\"]\n",
    "\n",
    "# Initialize an empty list to store dictionaries\n",
    "list_of_dicts = []\n",
    "\n",
    "# Use a for loop to generate a dictionary for each name-occupation pair\n",
    "for i in range(len(names)):\n",
    "    # Create a dictionary for each person\n",
    "    person_dict = {\n",
    "        \"name\": names[i],\n",
    "        \"occupation\": occupations[i]\n",
    "    }\n",
    "    # Append the dictionary to the list\n",
    "    list_of_dicts.append(person_dict)\n",
    "\n",
    "# Print the list of dictionaries\n",
    "for person_dict in list_of_dicts:\n",
    "    print(person_dict)"
   ]
  },
  {
   "cell_type": "markdown",
   "id": "7b900db2",
   "metadata": {},
   "source": [
    "    Import item data\n",
    "    look for specific words\n",
    "    create new list of items\n",
    "    give random damage and value"
   ]
  },
  {
   "cell_type": "code",
   "execution_count": 8,
   "id": "31768abb",
   "metadata": {},
   "outputs": [],
   "source": [
    "run  ItemData.json"
   ]
  },
  {
   "cell_type": "code",
   "execution_count": null,
   "id": "01d3faab",
   "metadata": {},
   "outputs": [],
   "source": [
    "Weapons = [\"Sword\", \"Dagger\", \"Staff\", \"Instrument\", \"Mace\"]\n",
    "\n",
    "Damage = [5, 10, 15]\n",
    "\n",
    "Value = []"
   ]
  },
  {
   "cell_type": "code",
   "execution_count": null,
   "id": "e281da1f",
   "metadata": {},
   "outputs": [],
   "source": [
    "import random"
   ]
  },
  {
   "cell_type": "code",
   "execution_count": null,
   "id": "087530d1",
   "metadata": {},
   "outputs": [],
   "source": [
    "Items = [\n",
    "    {\"Name\": \"Sword\" \"Description\": \"Blade fit for adventurers\" \"Damage\": 5 \"Value\": }\n",
    "]"
   ]
  }
 ],
 "metadata": {
  "kernelspec": {
   "display_name": "ETE4990",
   "language": "python",
   "name": "python3"
  },
  "language_info": {
   "codemirror_mode": {
    "name": "ipython",
    "version": 3
   },
   "file_extension": ".py",
   "mimetype": "text/x-python",
   "name": "python",
   "nbconvert_exporter": "python",
   "pygments_lexer": "ipython3",
   "version": "3.13.1"
  }
 },
 "nbformat": 4,
 "nbformat_minor": 5
}
